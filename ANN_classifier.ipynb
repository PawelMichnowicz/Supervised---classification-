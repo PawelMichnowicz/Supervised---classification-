{
  "nbformat": 4,
  "nbformat_minor": 0,
  "metadata": {
    "colab": {
      "name": "ANN classifier.ipynb",
      "provenance": [],
      "collapsed_sections": []
    },
    "kernelspec": {
      "name": "python3",
      "display_name": "Python 3"
    },
    "language_info": {
      "name": "python"
    }
  },
  "cells": [
    {
      "cell_type": "markdown",
      "metadata": {
        "id": "Uk93y-hzFr8n"
      },
      "source": [
        "Objective of this project is to build a classification model based on artificial neural network(ANN) for various element of clothes. I used popular dataset called [Fashion MNIST](https://github.com/zalandoresearch/fashion-mnist). \n",
        "\n",
        "My dataset consist of 60 000 images of various element of clothes with labels in training set and 10 000 elements in test set. Every images is 28xs28 in gray scale and is represented by one of the ten classes:\n",
        "\n",
        "| Label | Description |\n",
        "| --- | --- |\n",
        "| 0 | T-shirt/top |\n",
        "| 1 | Trouser |\n",
        "| 2 | Pullover |\n",
        "| 3 | Dress |\n",
        "| 4 | Coat |\n",
        "| 5 | Sandal |\n",
        "| 6 | Shirt |\n",
        "| 7 | Sneaker |\n",
        "| 8 | Bag |\n",
        "| 9 | Ankle boot |\n",
        "\n"
      ]
    },
    {
      "cell_type": "markdown",
      "metadata": {
        "id": "u6M7LKZrE0Pe"
      },
      "source": [
        "### Import and exploration of data"
      ]
    },
    {
      "cell_type": "code",
      "metadata": {
        "colab": {
          "base_uri": "https://localhost:8080/",
          "height": 35
        },
        "id": "McbnztuzH1mt",
        "outputId": "86d160fb-2d19-4e8b-fde7-bf8b07fbc079"
      },
      "source": [
        "import numpy as np\n",
        "import pandas as pd\n",
        "import matplotlib.pyplot as plt\n",
        "import seaborn as sns\n",
        "\n",
        "import tensorflow as tf\n",
        "from tensorflow.keras.datasets.fashion_mnist import load_data\n",
        "from tensorflow.keras.models import Sequential\n",
        "from tensorflow.keras.layers import Flatten, Dense\n",
        "from tensorflow.keras.callbacks import EarlyStopping\n",
        "\n",
        "np.set_printoptions(precision=12, suppress=True, linewidth=150)\n",
        "pd.options.display.float_format = '{:.6f}'.format\n",
        "sns.set()\n",
        "tf.__version__"
      ],
      "execution_count": null,
      "outputs": [
        {
          "output_type": "execute_result",
          "data": {
            "application/vnd.google.colaboratory.intrinsic+json": {
              "type": "string"
            },
            "text/plain": [
              "'2.6.0'"
            ]
          },
          "metadata": {
            "tags": []
          },
          "execution_count": 1
        }
      ]
    },
    {
      "cell_type": "code",
      "metadata": {
        "id": "g8eszeXSIWcx"
      },
      "source": [
        "(x_train, y_train), (x_test, y_test) = load_data()"
      ],
      "execution_count": null,
      "outputs": []
    },
    {
      "cell_type": "code",
      "metadata": {
        "colab": {
          "base_uri": "https://localhost:8080/",
          "height": 738
        },
        "id": "0rxPGCvKKDko",
        "outputId": "8f6f5db7-8c7c-4cc5-a1da-4c3a72e85885"
      },
      "source": [
        "# Show example of one of the images with\n",
        "\n",
        "plt.imshow(x_train[0], cmap='gray_r') \n",
        "plt.show()\n",
        "print(\"Label -> \",y_train[0])\n",
        "print(x_train[0])"
      ],
      "execution_count": null,
      "outputs": [
        {
          "output_type": "display_data",
          "data": {
            "image/png": "[encoded data removed]",
            "text/plain": [
              "<Figure size 432x288 with 1 Axes>"
            ]
          },
          "metadata": {
            "tags": [],
            "needs_background": "light"
          }
        },
        {
          "output_type": "stream",
          "text": [
            "Label ->  9\n",
            "[[  0   0   0   0   0   0   0   0   0   0   0   0   0   0   0   0   0   0   0   0   0   0   0   0   0   0   0   0]\n",
            " [  0   0   0   0   0   0   0   0   0   0   0   0   0   0   0   0   0   0   0   0   0   0   0   0   0   0   0   0]\n",
            " [  0   0   0   0   0   0   0   0   0   0   0   0   0   0   0   0   0   0   0   0   0   0   0   0   0   0   0   0]\n",
            " [  0   0   0   0   0   0   0   0   0   0   0   0   1   0   0  13  73   0   0   1   4   0   0   0   0   1   1   0]\n",
            " [  0   0   0   0   0   0   0   0   0   0   0   0   3   0  36 136 127  62  54   0   0   0   1   3   4   0   0   3]\n",
            " [  0   0   0   0   0   0   0   0   0   0   0   0   6   0 102 204 176 134 144 123  23   0   0   0   0  12  10   0]\n",
            " [  0   0   0   0   0   0   0   0   0   0   0   0   0   0 155 236 207 178 107 156 161 109  64  23  77 130  72  15]\n",
            " [  0   0   0   0   0   0   0   0   0   0   0   1   0  69 207 223 218 216 216 163 127 121 122 146 141  88 172  66]\n",
            " [  0   0   0   0   0   0   0   0   0   1   1   1   0 200 232 232 233 229 223 223 215 213 164 127 123 196 229   0]\n",
            " [  0   0   0   0   0   0   0   0   0   0   0   0   0 183 225 216 223 228 235 227 224 222 224 221 223 245 173   0]\n",
            " [  0   0   0   0   0   0   0   0   0   0   0   0   0 193 228 218 213 198 180 212 210 211 213 223 220 243 202   0]\n",
            " [  0   0   0   0   0   0   0   0   0   1   3   0  12 219 220 212 218 192 169 227 208 218 224 212 226 197 209  52]\n",
            " [  0   0   0   0   0   0   0   0   0   0   6   0  99 244 222 220 218 203 198 221 215 213 222 220 245 119 167  56]\n",
            " [  0   0   0   0   0   0   0   0   0   4   0   0  55 236 228 230 228 240 232 213 218 223 234 217 217 209  92   0]\n",
            " [  0   0   1   4   6   7   2   0   0   0   0   0 237 226 217 223 222 219 222 221 216 223 229 215 218 255  77   0]\n",
            " [  0   3   0   0   0   0   0   0   0  62 145 204 228 207 213 221 218 208 211 218 224 223 219 215 224 244 159   0]\n",
            " [  0   0   0   0  18  44  82 107 189 228 220 222 217 226 200 205 211 230 224 234 176 188 250 248 233 238 215   0]\n",
            " [  0  57 187 208 224 221 224 208 204 214 208 209 200 159 245 193 206 223 255 255 221 234 221 211 220 232 246   0]\n",
            " [  3 202 228 224 221 211 211 214 205 205 205 220 240  80 150 255 229 221 188 154 191 210 204 209 222 228 225   0]\n",
            " [ 98 233 198 210 222 229 229 234 249 220 194 215 217 241  65  73 106 117 168 219 221 215 217 223 223 224 229  29]\n",
            " [ 75 204 212 204 193 205 211 225 216 185 197 206 198 213 240 195 227 245 239 223 218 212 209 222 220 221 230  67]\n",
            " [ 48 203 183 194 213 197 185 190 194 192 202 214 219 221 220 236 225 216 199 206 186 181 177 172 181 205 206 115]\n",
            " [  0 122 219 193 179 171 183 196 204 210 213 207 211 210 200 196 194 191 195 191 198 192 176 156 167 177 210  92]\n",
            " [  0   0  74 189 212 191 175 172 175 181 185 188 189 188 193 198 204 209 210 210 211 188 188 194 192 216 170   0]\n",
            " [  2   0   0   0  66 200 222 237 239 242 246 243 244 221 220 193 191 179 182 182 181 176 166 168  99  58   0   0]\n",
            " [  0   0   0   0   0   0   0  40  61  44  72  41  35   0   0   0   0   0   0   0   0   0   0   0   0   0   0   0]\n",
            " [  0   0   0   0   0   0   0   0   0   0   0   0   0   0   0   0   0   0   0   0   0   0   0   0   0   0   0   0]\n",
            " [  0   0   0   0   0   0   0   0   0   0   0   0   0   0   0   0   0   0   0   0   0   0   0   0   0   0   0   0]]\n"
          ],
          "name": "stdout"
        }
      ]
    },
    {
      "cell_type": "code",
      "metadata": {
        "colab": {
          "base_uri": "https://localhost:8080/",
          "height": 133
        },
        "id": "Yoi7XKdjKJvL",
        "outputId": "070c3376-0b64-4b61-d4f3-032e66b5570d"
      },
      "source": [
        "# Show every examples of every part of clothes with labels\n",
        "\n",
        "clothes_name = ['T-shirt/top', 'Trouser', 'Pullover', 'Dress', 'Coat', 'Sandal',\n",
        "                'Shirt', 'Sneaker', 'Bag', 'Ankle boot']\n",
        "ind = 0\n",
        "i=1\n",
        "list_of_clothes = [] \n",
        "\n",
        "plt.figure(figsize=(18, 13))\n",
        "while len(list_of_clothes) < 10: \n",
        "\n",
        "  if y_train[ind] not in list_of_clothes: \n",
        "\n",
        "    list_of_clothes.append(y_train[ind]) \n",
        "    plt.subplot(1, 10, i)\n",
        "    plt.axis('off')\n",
        "    plt.imshow(x_train[ind], cmap='gray_r')\n",
        "    plt.title(clothes_name[y_train[ind]], color='black', fontsize=16)\n",
        "\n",
        "    i+=1\n",
        "  ind+=1"
      ],
      "execution_count": null,
      "outputs": [
        {
          "output_type": "display_data",
          "data": {
            "image/png": "[encoded data removed]",
            "text/plain": [
              "<Figure size 1296x936 with 10 Axes>"
            ]
          },
          "metadata": {
            "tags": [],
            "needs_background": "light"
          }
        }
      ]
    },
    {
      "cell_type": "code",
      "metadata": {
        "id": "7RH448XnSe2C"
      },
      "source": [
        "# Standarization \n",
        "\n",
        "x_train = x_train / 255.\n",
        "x_test = x_test / 255."
      ],
      "execution_count": null,
      "outputs": []
    },
    {
      "cell_type": "markdown",
      "metadata": {
        "id": "X6K-LavHS646"
      },
      "source": [
        "### Model - 3 layers"
      ]
    },
    {
      "cell_type": "code",
      "metadata": {
        "colab": {
          "base_uri": "https://localhost:8080/"
        },
        "id": "67ilbnw2YETW",
        "outputId": "eafa33b6-f03d-44f1-fa7b-3f921f84a1d8"
      },
      "source": [
        "# Building a model from 3 layers include 1 layer \n",
        "\n",
        "model_3 = Sequential()\n",
        "model_3.add(Flatten(input_shape=(28, 28))) #thanks this layer our matrix is transposed into vector\n",
        "model_3.add(Dense(units=128, activation='relu'))\n",
        "model_3.add(Dense(units=10, activation='softmax')) # 10 because ten various labels to predict\n",
        "\n",
        "\n",
        "model_3.compile(optimizer='adam',\n",
        "              loss='sparse_categorical_crossentropy',\n",
        "              metrics=['accuracy'])\n",
        "\n",
        "model_3.summary()"
      ],
      "execution_count": null,
      "outputs": [
        {
          "output_type": "stream",
          "text": [
            "Model: \"sequential\"\n",
            "_________________________________________________________________\n",
            "Layer (type)                 Output Shape              Param #   \n",
            "=================================================================\n",
            "flatten (Flatten)            (None, 784)               0         \n",
            "_________________________________________________________________\n",
            "dense (Dense)                (None, 128)               100480    \n",
            "_________________________________________________________________\n",
            "dense_1 (Dense)              (None, 10)                1290      \n",
            "=================================================================\n",
            "Total params: 101,770\n",
            "Trainable params: 101,770\n",
            "Non-trainable params: 0\n",
            "_________________________________________________________________\n"
          ],
          "name": "stdout"
        }
      ]
    },
    {
      "cell_type": "code",
      "metadata": {
        "colab": {
          "base_uri": "https://localhost:8080/"
        },
        "id": "ijhMnz0Nkqw4",
        "outputId": "af880b19-ab6b-4b62-f39f-50f41ec5053a"
      },
      "source": [
        "es = EarlyStopping(monitor='val_loss', mode='min', patience=3)\n",
        "\n",
        "history_3 = model_3.fit(x_train, y_train, epochs=20, batch_size=10, validation_split=0.2, callbacks=[es])"
      ],
      "execution_count": null,
      "outputs": [
        {
          "output_type": "stream",
          "text": [
            "Epoch 1/20\n",
            "4800/4800 [==============================] - 11s 2ms/step - loss: 0.4948 - accuracy: 0.8227 - val_loss: 0.4045 - val_accuracy: 0.8492\n",
            "Epoch 2/20\n",
            "4800/4800 [==============================] - 9s 2ms/step - loss: 0.3744 - accuracy: 0.8638 - val_loss: 0.4170 - val_accuracy: 0.8533\n",
            "Epoch 3/20\n",
            "4800/4800 [==============================] - 11s 2ms/step - loss: 0.3363 - accuracy: 0.8757 - val_loss: 0.3483 - val_accuracy: 0.8747\n",
            "Epoch 4/20\n",
            "4800/4800 [==============================] - 11s 2ms/step - loss: 0.3139 - accuracy: 0.8835 - val_loss: 0.3455 - val_accuracy: 0.8735\n",
            "Epoch 5/20\n",
            "4800/4800 [==============================] - 11s 2ms/step - loss: 0.2968 - accuracy: 0.8899 - val_loss: 0.3607 - val_accuracy: 0.8746\n",
            "Epoch 6/20\n",
            "4800/4800 [==============================] - 10s 2ms/step - loss: 0.2826 - accuracy: 0.8939 - val_loss: 0.3235 - val_accuracy: 0.8878\n",
            "Epoch 7/20\n",
            "4800/4800 [==============================] - 11s 2ms/step - loss: 0.2686 - accuracy: 0.8990 - val_loss: 0.3341 - val_accuracy: 0.8824\n",
            "Epoch 8/20\n",
            "4800/4800 [==============================] - 11s 2ms/step - loss: 0.2592 - accuracy: 0.9036 - val_loss: 0.3578 - val_accuracy: 0.8766\n",
            "Epoch 9/20\n",
            "4800/4800 [==============================] - 11s 2ms/step - loss: 0.2479 - accuracy: 0.9066 - val_loss: 0.3323 - val_accuracy: 0.8869\n"
          ],
          "name": "stdout"
        }
      ]
    },
    {
      "cell_type": "markdown",
      "metadata": {
        "id": "wLC8H8uumQps"
      },
      "source": [
        "### Model 4 - layers"
      ]
    },
    {
      "cell_type": "code",
      "metadata": {
        "colab": {
          "base_uri": "https://localhost:8080/"
        },
        "id": "CEjj5vZpmS8W",
        "outputId": "b6f493c8-f5a6-4069-98e4-3942c9a9ba11"
      },
      "source": [
        "# Building a model from 3 layers include 1 layer \n",
        "\n",
        "model_4 = Sequential()\n",
        "model_4.add(Flatten(input_shape=(28, 28))) #thanks this layer our matrix is transposed into vector\n",
        "model_4.add(Dense(units=28, activation='relu'))\n",
        "model_4.add(Dense(units=18, activation='sigmoid'))\n",
        "model_4.add(Dense(units=10, activation='softmax')) # 10 because ten various labels to predict\n",
        "\n",
        "\n",
        "model_4.compile(optimizer='adam',\n",
        "              loss='sparse_categorical_crossentropy',\n",
        "              metrics=['accuracy'])\n",
        "\n",
        "model_4.summary()"
      ],
      "execution_count": null,
      "outputs": [
        {
          "output_type": "stream",
          "text": [
            "Model: \"sequential_1\"\n",
            "_________________________________________________________________\n",
            "Layer (type)                 Output Shape              Param #   \n",
            "=================================================================\n",
            "flatten_1 (Flatten)          (None, 784)               0         \n",
            "_________________________________________________________________\n",
            "dense_2 (Dense)              (None, 28)                21980     \n",
            "_________________________________________________________________\n",
            "dense_3 (Dense)              (None, 18)                522       \n",
            "_________________________________________________________________\n",
            "dense_4 (Dense)              (None, 10)                190       \n",
            "=================================================================\n",
            "Total params: 22,692\n",
            "Trainable params: 22,692\n",
            "Non-trainable params: 0\n",
            "_________________________________________________________________\n"
          ],
          "name": "stdout"
        }
      ]
    },
    {
      "cell_type": "code",
      "metadata": {
        "colab": {
          "base_uri": "https://localhost:8080/"
        },
        "id": "S6N8J_3hmXxz",
        "outputId": "317823e6-e065-47f7-b387-401a77c35904"
      },
      "source": [
        "es = EarlyStopping(monitor='val_loss', mode='min', patience=3)\n",
        "\n",
        "history_4 = model_4.fit(x_train, y_train, epochs=20, batch_size=10, validation_split=0.2, callbacks=[es])"
      ],
      "execution_count": null,
      "outputs": [
        {
          "output_type": "stream",
          "text": [
            "Epoch 1/20\n",
            "4800/4800 [==============================] - 10s 2ms/step - loss: 0.6694 - accuracy: 0.7834 - val_loss: 0.4737 - val_accuracy: 0.8310\n",
            "Epoch 2/20\n",
            "4800/4800 [==============================] - 9s 2ms/step - loss: 0.4328 - accuracy: 0.8491 - val_loss: 0.4248 - val_accuracy: 0.8491\n",
            "Epoch 3/20\n",
            "4800/4800 [==============================] - 9s 2ms/step - loss: 0.3919 - accuracy: 0.8622 - val_loss: 0.3895 - val_accuracy: 0.8602\n",
            "Epoch 4/20\n",
            "4800/4800 [==============================] - 9s 2ms/step - loss: 0.3710 - accuracy: 0.8680 - val_loss: 0.4209 - val_accuracy: 0.8452\n",
            "Epoch 5/20\n",
            "4800/4800 [==============================] - 9s 2ms/step - loss: 0.3531 - accuracy: 0.8740 - val_loss: 0.3691 - val_accuracy: 0.8689\n",
            "Epoch 6/20\n",
            "4800/4800 [==============================] - 9s 2ms/step - loss: 0.3415 - accuracy: 0.8770 - val_loss: 0.3651 - val_accuracy: 0.8688\n",
            "Epoch 7/20\n",
            "4800/4800 [==============================] - 9s 2ms/step - loss: 0.3294 - accuracy: 0.8814 - val_loss: 0.3562 - val_accuracy: 0.8741\n",
            "Epoch 8/20\n",
            "4800/4800 [==============================] - 9s 2ms/step - loss: 0.3203 - accuracy: 0.8850 - val_loss: 0.3703 - val_accuracy: 0.8662\n",
            "Epoch 9/20\n",
            "4800/4800 [==============================] - 9s 2ms/step - loss: 0.3123 - accuracy: 0.8874 - val_loss: 0.3566 - val_accuracy: 0.8749\n",
            "Epoch 10/20\n",
            "4800/4800 [==============================] - 9s 2ms/step - loss: 0.3047 - accuracy: 0.8896 - val_loss: 0.3672 - val_accuracy: 0.8717\n"
          ],
          "name": "stdout"
        }
      ]
    },
    {
      "cell_type": "markdown",
      "metadata": {
        "id": "G4li1qizmo4U"
      },
      "source": [
        "### Graphical comparison of models"
      ]
    },
    {
      "cell_type": "code",
      "metadata": {
        "colab": {
          "base_uri": "https://localhost:8080/"
        },
        "id": "hKPnufqErgcQ",
        "outputId": "53d09ccf-b3ac-4e21-9fb6-c9766154aeca"
      },
      "source": [
        "df_3 = pd.DataFrame(history_3.history)\n",
        "df_3['epoch'] = history_3.epoch\n",
        "print(df_3.head())\n",
        "\n",
        "df_4 = pd.DataFrame(history_4.history)\n",
        "df_4['epoch'] = history_4.epoch\n",
        "print(df_4.head())"
      ],
      "execution_count": null,
      "outputs": [
        {
          "output_type": "stream",
          "text": [
            "      loss  accuracy  val_loss  val_accuracy  epoch\n",
            "0 0.494756  0.822750  0.404506      0.849167      0\n",
            "1 0.374378  0.863833  0.417007      0.853333      1\n",
            "2 0.336348  0.875667  0.348266      0.874667      2\n",
            "3 0.313864  0.883542  0.345520      0.873500      3\n",
            "4 0.296792  0.889938  0.360668      0.874583      4\n",
            "      loss  accuracy  val_loss  val_accuracy  epoch\n",
            "0 0.669421  0.783375  0.473711      0.831000      0\n",
            "1 0.432838  0.849083  0.424817      0.849083      1\n",
            "2 0.391875  0.862167  0.389468      0.860167      2\n",
            "3 0.370979  0.867958  0.420891      0.845167      3\n",
            "4 0.353087  0.874000  0.369076      0.868917      4\n"
          ],
          "name": "stdout"
        }
      ]
    },
    {
      "cell_type": "code",
      "metadata": {
        "colab": {
          "base_uri": "https://localhost:8080/",
          "height": 542
        },
        "id": "a72oPEdwrdzF",
        "outputId": "ff4d8459-133d-43bd-ecd7-2756b4857fc8"
      },
      "source": [
        "import plotly.graph_objects as go\n",
        "from plotly.subplots import make_subplots\n",
        "\n",
        "fig = make_subplots(rows=2, cols=2,\n",
        "                    subplot_titles=(\"<b>3 layers</b>\", \"<b>4 layers</b>\", \"\", \"\"))\n",
        "\n",
        "\n",
        "fig.add_trace(go.Scatter(x=df_3['epoch'], y=df_3['accuracy'], name='accuracy - 3 layers'), row=1, col=1)\n",
        "fig.add_trace(go.Scatter(x=df_3['epoch'], y=df_3['val_accuracy'], name='val_accuracy'), row=1, col=1)\n",
        "\n",
        "fig.add_trace(go.Scatter(x=df_4['epoch'], y=df_4['accuracy'], name='accuracy - 4 layers'), row=1, col=2)\n",
        "fig.add_trace(go.Scatter(x=df_4['epoch'], y=df_4['val_accuracy'], name='val_accuracy'), row=1, col=2)\n",
        "\n",
        "fig.add_trace(go.Scatter(x=df_3['epoch'], y=df_3['loss'], name='loss - 3 layers'), row=2, col=1)\n",
        "fig.add_trace(go.Scatter(x=df_3['epoch'], y=df_3['val_loss'], name='val_loss'), row=2, col=1)\n",
        "\n",
        "fig.add_trace(go.Scatter(x=df_4['epoch'], y=df_4['loss'], name='loss - 4 layers'), row=2, col=2)\n",
        "fig.add_trace(go.Scatter(x=df_4['epoch'], y=df_4['val_loss'], name='val_loss'), row=2, col=2)\n",
        "\n",
        "\n",
        "fig.update_yaxes(title_text=\"Accuracy\", row=1, col=1)\n",
        "\n",
        "fig.update_yaxes(title_text=\"Loss\", row=2, col=1)\n",
        "\n",
        "\n",
        "\n",
        "\n",
        "\n",
        "fig.update_xaxes(title_text='epochs')\n",
        "fig.update_layout(width=1500, title='<b>Accuracy and Loss</b>', titlefont=dict(size =19, color='black', family='Arial, sans-serif'))\n",
        "fig.show()"
      ],
      "execution_count": null,
      "outputs": [
        {
          "output_type": "display_data",
          "data": {
            "text/html": [
              "<html>\n",
              "<head><meta charset=\"utf-8\" /></head>\n",
              "<body>\n",
              "    <div>\n",
              "            <script src=\"https://cdnjs.cloudflare.com/ajax/libs/mathjax/2.7.5/MathJax.js?config=TeX-AMS-MML_SVG\"></script><script type=\"text/javascript\">if (window.MathJax) {MathJax.Hub.Config({SVG: {font: \"STIX-Web\"}});}</script>\n",
              "                <script type=\"text/javascript\">window.PlotlyConfig = {MathJaxConfig: 'local'};</script>\n",
              "        <script src=\"https://cdn.plot.ly/plotly-latest.min.js\"></script>    \n",
              "            <div id=\"de0bab21-0148-49d9-bb37-6e16818bf25b\" class=\"plotly-graph-div\" style=\"height:525px; width:1500px;\"></div>\n",
              "            <script type=\"text/javascript\">\n",
              "                \n",
              "                    window.PLOTLYENV=window.PLOTLYENV || {};\n",
              "                    \n",
              "                if (document.getElementById(\"de0bab21-0148-49d9-bb37-6e16818bf25b\")) {\n",
              "                    Plotly.newPlot(\n",
              "                        'de0bab21-0148-49d9-bb37-6e16818bf25b',\n",
              "                        [{\"name\": \"accuracy - 3 layers\", \"type\": \"scatter\", \"x\": [0, 1, 2, 3, 4, 5, 6, 7, 8], \"xaxis\": \"x\", \"y\": [0.8227499723434448, 0.8638333082199097, 0.8756666779518127, 0.8835416436195374, 0.8899375200271606, 0.8938541412353516, 0.8990416526794434, 0.9035833477973938, 0.9066041707992554], \"yaxis\": \"y\"}, {\"name\": \"val_accuracy\", \"type\": \"scatter\", \"x\": [0, 1, 2, 3, 4, 5, 6, 7, 8], \"xaxis\": \"x\", \"y\": [0.8491666913032532, 0.8533333539962769, 0.874666690826416, 0.8734999895095825, 0.8745833039283752, 0.8877500295639038, 0.8824166655540466, 0.8765833377838135, 0.8869166374206543], \"yaxis\": \"y\"}, {\"name\": \"accuracy - 4 layers\", \"type\": \"scatter\", \"x\": [0, 1, 2, 3, 4, 5, 6, 7, 8, 9], \"xaxis\": \"x2\", \"y\": [0.7833750247955322, 0.8490833044052124, 0.8621666431427002, 0.8679583072662354, 0.8740000128746033, 0.8769999742507935, 0.8813541531562805, 0.8849791884422302, 0.887374997138977, 0.8895833492279053], \"yaxis\": \"y2\"}, {\"name\": \"val_accuracy\", \"type\": \"scatter\", \"x\": [0, 1, 2, 3, 4, 5, 6, 7, 8, 9], \"xaxis\": \"x2\", \"y\": [0.8309999704360962, 0.8490833044052124, 0.8601666688919067, 0.8451666831970215, 0.8689166903495789, 0.8688333630561829, 0.8740833401679993, 0.8661666512489319, 0.874916672706604, 0.871749997138977], \"yaxis\": \"y2\"}, {\"name\": \"loss - 3 layers\", \"type\": \"scatter\", \"x\": [0, 1, 2, 3, 4, 5, 6, 7, 8], \"xaxis\": \"x3\", \"y\": [0.49475574493408203, 0.3743777275085449, 0.3363478481769562, 0.3138635754585266, 0.29679182171821594, 0.28264328837394714, 0.2685987055301666, 0.25916704535484314, 0.2478664368391037], \"yaxis\": \"y3\"}, {\"name\": \"val_loss\", \"type\": \"scatter\", \"x\": [0, 1, 2, 3, 4, 5, 6, 7, 8], \"xaxis\": \"x3\", \"y\": [0.40450581908226013, 0.41700732707977295, 0.3482661545276642, 0.34551987051963806, 0.3606676757335663, 0.32348302006721497, 0.3340615928173065, 0.35777416825294495, 0.332276314496994], \"yaxis\": \"y3\"}, {\"name\": \"loss - 4 layers\", \"type\": \"scatter\", \"x\": [0, 1, 2, 3, 4, 5, 6, 7, 8, 9], \"xaxis\": \"x4\", \"y\": [0.6694212555885315, 0.4328378438949585, 0.3918752074241638, 0.3709791600704193, 0.35308700799942017, 0.34146013855934143, 0.3294210731983185, 0.3202510178089142, 0.31233078241348267, 0.30466046929359436], \"yaxis\": \"y4\"}, {\"name\": \"val_loss\", \"type\": \"scatter\", \"x\": [0, 1, 2, 3, 4, 5, 6, 7, 8, 9], \"xaxis\": \"x4\", \"y\": [0.4737106263637543, 0.4248172342777252, 0.38946759700775146, 0.4208908677101135, 0.3690759539604187, 0.36510059237480164, 0.3562487065792084, 0.3703376352787018, 0.3565959930419922, 0.36723875999450684], \"yaxis\": \"y4\"}],\n",
              "                        {\"annotations\": [{\"font\": {\"size\": 16}, \"showarrow\": false, \"text\": \"<b>3 layers</b>\", \"x\": 0.225, \"xanchor\": \"center\", \"xref\": \"paper\", \"y\": 1.0, \"yanchor\": \"bottom\", \"yref\": \"paper\"}, {\"font\": {\"size\": 16}, \"showarrow\": false, \"text\": \"<b>4 layers</b>\", \"x\": 0.775, \"xanchor\": \"center\", \"xref\": \"paper\", \"y\": 1.0, \"yanchor\": \"bottom\", \"yref\": \"paper\"}], \"template\": {\"data\": {\"bar\": [{\"error_x\": {\"color\": \"#2a3f5f\"}, \"error_y\": {\"color\": \"#2a3f5f\"}, \"marker\": {\"line\": {\"color\": \"#E5ECF6\", \"width\": 0.5}}, \"type\": \"bar\"}], \"barpolar\": [{\"marker\": {\"line\": {\"color\": \"#E5ECF6\", \"width\": 0.5}}, \"type\": \"barpolar\"}], \"carpet\": [{\"aaxis\": {\"endlinecolor\": \"#2a3f5f\", \"gridcolor\": \"white\", \"linecolor\": \"white\", \"minorgridcolor\": \"white\", \"startlinecolor\": \"#2a3f5f\"}, \"baxis\": {\"endlinecolor\": \"#2a3f5f\", \"gridcolor\": \"white\", \"linecolor\": \"white\", \"minorgridcolor\": \"white\", \"startlinecolor\": \"#2a3f5f\"}, \"type\": \"carpet\"}], \"choropleth\": [{\"colorbar\": {\"outlinewidth\": 0, \"ticks\": \"\"}, \"type\": \"choropleth\"}], \"contour\": [{\"colorbar\": {\"outlinewidth\": 0, \"ticks\": \"\"}, \"colorscale\": [[0.0, \"#0d0887\"], [0.1111111111111111, \"#46039f\"], [0.2222222222222222, \"#7201a8\"], [0.3333333333333333, \"#9c179e\"], [0.4444444444444444, \"#bd3786\"], [0.5555555555555556, \"#d8576b\"], [0.6666666666666666, \"#ed7953\"], [0.7777777777777778, \"#fb9f3a\"], [0.8888888888888888, \"#fdca26\"], [1.0, \"#f0f921\"]], \"type\": \"contour\"}], \"contourcarpet\": [{\"colorbar\": {\"outlinewidth\": 0, \"ticks\": \"\"}, \"type\": \"contourcarpet\"}], \"heatmap\": [{\"colorbar\": {\"outlinewidth\": 0, \"ticks\": \"\"}, \"colorscale\": [[0.0, \"#0d0887\"], [0.1111111111111111, \"#46039f\"], [0.2222222222222222, \"#7201a8\"], [0.3333333333333333, \"#9c179e\"], [0.4444444444444444, \"#bd3786\"], [0.5555555555555556, \"#d8576b\"], [0.6666666666666666, \"#ed7953\"], [0.7777777777777778, \"#fb9f3a\"], [0.8888888888888888, \"#fdca26\"], [1.0, \"#f0f921\"]], \"type\": \"heatmap\"}], \"heatmapgl\": [{\"colorbar\": {\"outlinewidth\": 0, \"ticks\": \"\"}, \"colorscale\": [[0.0, \"#0d0887\"], [0.1111111111111111, \"#46039f\"], [0.2222222222222222, \"#7201a8\"], [0.3333333333333333, \"#9c179e\"], [0.4444444444444444, \"#bd3786\"], [0.5555555555555556, \"#d8576b\"], [0.6666666666666666, \"#ed7953\"], [0.7777777777777778, \"#fb9f3a\"], [0.8888888888888888, \"#fdca26\"], [1.0, \"#f0f921\"]], \"type\": \"heatmapgl\"}], \"histogram\": [{\"marker\": {\"colorbar\": {\"outlinewidth\": 0, \"ticks\": \"\"}}, \"type\": \"histogram\"}], \"histogram2d\": [{\"colorbar\": {\"outlinewidth\": 0, \"ticks\": \"\"}, \"colorscale\": [[0.0, \"#0d0887\"], [0.1111111111111111, \"#46039f\"], [0.2222222222222222, \"#7201a8\"], [0.3333333333333333, \"#9c179e\"], [0.4444444444444444, \"#bd3786\"], [0.5555555555555556, \"#d8576b\"], [0.6666666666666666, \"#ed7953\"], [0.7777777777777778, \"#fb9f3a\"], [0.8888888888888888, \"#fdca26\"], [1.0, \"#f0f921\"]], \"type\": \"histogram2d\"}], \"histogram2dcontour\": [{\"colorbar\": {\"outlinewidth\": 0, \"ticks\": \"\"}, \"colorscale\": [[0.0, \"#0d0887\"], [0.1111111111111111, \"#46039f\"], [0.2222222222222222, \"#7201a8\"], [0.3333333333333333, \"#9c179e\"], [0.4444444444444444, \"#bd3786\"], [0.5555555555555556, \"#d8576b\"], [0.6666666666666666, \"#ed7953\"], [0.7777777777777778, \"#fb9f3a\"], [0.8888888888888888, \"#fdca26\"], [1.0, \"#f0f921\"]], \"type\": \"histogram2dcontour\"}], \"mesh3d\": [{\"colorbar\": {\"outlinewidth\": 0, \"ticks\": \"\"}, \"type\": \"mesh3d\"}], \"parcoords\": [{\"line\": {\"colorbar\": {\"outlinewidth\": 0, \"ticks\": \"\"}}, \"type\": \"parcoords\"}], \"pie\": [{\"automargin\": true, \"type\": \"pie\"}], \"scatter\": [{\"marker\": {\"colorbar\": {\"outlinewidth\": 0, \"ticks\": \"\"}}, \"type\": \"scatter\"}], \"scatter3d\": [{\"line\": {\"colorbar\": {\"outlinewidth\": 0, \"ticks\": \"\"}}, \"marker\": {\"colorbar\": {\"outlinewidth\": 0, \"ticks\": \"\"}}, \"type\": \"scatter3d\"}], \"scattercarpet\": [{\"marker\": {\"colorbar\": {\"outlinewidth\": 0, \"ticks\": \"\"}}, \"type\": \"scattercarpet\"}], \"scattergeo\": [{\"marker\": {\"colorbar\": {\"outlinewidth\": 0, \"ticks\": \"\"}}, \"type\": \"scattergeo\"}], \"scattergl\": [{\"marker\": {\"colorbar\": {\"outlinewidth\": 0, \"ticks\": \"\"}}, \"type\": \"scattergl\"}], \"scattermapbox\": [{\"marker\": {\"colorbar\": {\"outlinewidth\": 0, \"ticks\": \"\"}}, \"type\": \"scattermapbox\"}], \"scatterpolar\": [{\"marker\": {\"colorbar\": {\"outlinewidth\": 0, \"ticks\": \"\"}}, \"type\": \"scatterpolar\"}], \"scatterpolargl\": [{\"marker\": {\"colorbar\": {\"outlinewidth\": 0, \"ticks\": \"\"}}, \"type\": \"scatterpolargl\"}], \"scatterternary\": [{\"marker\": {\"colorbar\": {\"outlinewidth\": 0, \"ticks\": \"\"}}, \"type\": \"scatterternary\"}], \"surface\": [{\"colorbar\": {\"outlinewidth\": 0, \"ticks\": \"\"}, \"colorscale\": [[0.0, \"#0d0887\"], [0.1111111111111111, \"#46039f\"], [0.2222222222222222, \"#7201a8\"], [0.3333333333333333, \"#9c179e\"], [0.4444444444444444, \"#bd3786\"], [0.5555555555555556, \"#d8576b\"], [0.6666666666666666, \"#ed7953\"], [0.7777777777777778, \"#fb9f3a\"], [0.8888888888888888, \"#fdca26\"], [1.0, \"#f0f921\"]], \"type\": \"surface\"}], \"table\": [{\"cells\": {\"fill\": {\"color\": \"#EBF0F8\"}, \"line\": {\"color\": \"white\"}}, \"header\": {\"fill\": {\"color\": \"#C8D4E3\"}, \"line\": {\"color\": \"white\"}}, \"type\": \"table\"}]}, \"layout\": {\"annotationdefaults\": {\"arrowcolor\": \"#2a3f5f\", \"arrowhead\": 0, \"arrowwidth\": 1}, \"coloraxis\": {\"colorbar\": {\"outlinewidth\": 0, \"ticks\": \"\"}}, \"colorscale\": {\"diverging\": [[0, \"#8e0152\"], [0.1, \"#c51b7d\"], [0.2, \"#de77ae\"], [0.3, \"#f1b6da\"], [0.4, \"#fde0ef\"], [0.5, \"#f7f7f7\"], [0.6, \"#e6f5d0\"], [0.7, \"#b8e186\"], [0.8, \"#7fbc41\"], [0.9, \"#4d9221\"], [1, \"#276419\"]], \"sequential\": [[0.0, \"#0d0887\"], [0.1111111111111111, \"#46039f\"], [0.2222222222222222, \"#7201a8\"], [0.3333333333333333, \"#9c179e\"], [0.4444444444444444, \"#bd3786\"], [0.5555555555555556, \"#d8576b\"], [0.6666666666666666, \"#ed7953\"], [0.7777777777777778, \"#fb9f3a\"], [0.8888888888888888, \"#fdca26\"], [1.0, \"#f0f921\"]], \"sequentialminus\": [[0.0, \"#0d0887\"], [0.1111111111111111, \"#46039f\"], [0.2222222222222222, \"#7201a8\"], [0.3333333333333333, \"#9c179e\"], [0.4444444444444444, \"#bd3786\"], [0.5555555555555556, \"#d8576b\"], [0.6666666666666666, \"#ed7953\"], [0.7777777777777778, \"#fb9f3a\"], [0.8888888888888888, \"#fdca26\"], [1.0, \"#f0f921\"]]}, \"colorway\": [\"#636efa\", \"#EF553B\", \"#00cc96\", \"#ab63fa\", \"#FFA15A\", \"#19d3f3\", \"#FF6692\", \"#B6E880\", \"#FF97FF\", \"#FECB52\"], \"font\": {\"color\": \"#2a3f5f\"}, \"geo\": {\"bgcolor\": \"white\", \"lakecolor\": \"white\", \"landcolor\": \"#E5ECF6\", \"showlakes\": true, \"showland\": true, \"subunitcolor\": \"white\"}, \"hoverlabel\": {\"align\": \"left\"}, \"hovermode\": \"closest\", \"mapbox\": {\"style\": \"light\"}, \"paper_bgcolor\": \"white\", \"plot_bgcolor\": \"#E5ECF6\", \"polar\": {\"angularaxis\": {\"gridcolor\": \"white\", \"linecolor\": \"white\", \"ticks\": \"\"}, \"bgcolor\": \"#E5ECF6\", \"radialaxis\": {\"gridcolor\": \"white\", \"linecolor\": \"white\", \"ticks\": \"\"}}, \"scene\": {\"xaxis\": {\"backgroundcolor\": \"#E5ECF6\", \"gridcolor\": \"white\", \"gridwidth\": 2, \"linecolor\": \"white\", \"showbackground\": true, \"ticks\": \"\", \"zerolinecolor\": \"white\"}, \"yaxis\": {\"backgroundcolor\": \"#E5ECF6\", \"gridcolor\": \"white\", \"gridwidth\": 2, \"linecolor\": \"white\", \"showbackground\": true, \"ticks\": \"\", \"zerolinecolor\": \"white\"}, \"zaxis\": {\"backgroundcolor\": \"#E5ECF6\", \"gridcolor\": \"white\", \"gridwidth\": 2, \"linecolor\": \"white\", \"showbackground\": true, \"ticks\": \"\", \"zerolinecolor\": \"white\"}}, \"shapedefaults\": {\"line\": {\"color\": \"#2a3f5f\"}}, \"ternary\": {\"aaxis\": {\"gridcolor\": \"white\", \"linecolor\": \"white\", \"ticks\": \"\"}, \"baxis\": {\"gridcolor\": \"white\", \"linecolor\": \"white\", \"ticks\": \"\"}, \"bgcolor\": \"#E5ECF6\", \"caxis\": {\"gridcolor\": \"white\", \"linecolor\": \"white\", \"ticks\": \"\"}}, \"title\": {\"x\": 0.05}, \"xaxis\": {\"automargin\": true, \"gridcolor\": \"white\", \"linecolor\": \"white\", \"ticks\": \"\", \"title\": {\"standoff\": 15}, \"zerolinecolor\": \"white\", \"zerolinewidth\": 2}, \"yaxis\": {\"automargin\": true, \"gridcolor\": \"white\", \"linecolor\": \"white\", \"ticks\": \"\", \"title\": {\"standoff\": 15}, \"zerolinecolor\": \"white\", \"zerolinewidth\": 2}}}, \"title\": {\"font\": {\"color\": \"black\", \"family\": \"Arial, sans-serif\", \"size\": 19}, \"text\": \"<b>Accuracy and Loss</b>\"}, \"width\": 1500, \"xaxis\": {\"anchor\": \"y\", \"domain\": [0.0, 0.45], \"title\": {\"text\": \"epochs\"}}, \"xaxis2\": {\"anchor\": \"y2\", \"domain\": [0.55, 1.0], \"title\": {\"text\": \"epochs\"}}, \"xaxis3\": {\"anchor\": \"y3\", \"domain\": [0.0, 0.45], \"title\": {\"text\": \"epochs\"}}, \"xaxis4\": {\"anchor\": \"y4\", \"domain\": [0.55, 1.0], \"title\": {\"text\": \"epochs\"}}, \"yaxis\": {\"anchor\": \"x\", \"domain\": [0.625, 1.0], \"title\": {\"text\": \"Accuracy\"}}, \"yaxis2\": {\"anchor\": \"x2\", \"domain\": [0.625, 1.0]}, \"yaxis3\": {\"anchor\": \"x3\", \"domain\": [0.0, 0.375], \"title\": {\"text\": \"Loss\"}}, \"yaxis4\": {\"anchor\": \"x4\", \"domain\": [0.0, 0.375]}},\n",
              "                        {\"responsive\": true}\n",
              "                    ).then(function(){\n",
              "                            \n",
              "var gd = document.getElementById('de0bab21-0148-49d9-bb37-6e16818bf25b');\n",
              "var x = new MutationObserver(function (mutations, observer) {{\n",
              "        var display = window.getComputedStyle(gd).display;\n",
              "        if (!display || display === 'none') {{\n",
              "            console.log([gd, 'removed!']);\n",
              "            Plotly.purge(gd);\n",
              "            observer.disconnect();\n",
              "        }}\n",
              "}});\n",
              "\n",
              "// Listen for the removal of the full notebook cells\n",
              "var notebookContainer = gd.closest('#notebook-container');\n",
              "if (notebookContainer) {{\n",
              "    x.observe(notebookContainer, {childList: true});\n",
              "}}\n",
              "\n",
              "// Listen for the clearing of the current output cell\n",
              "var outputEl = gd.closest('.output');\n",
              "if (outputEl) {{\n",
              "    x.observe(outputEl, {childList: true});\n",
              "}}\n",
              "\n",
              "                        })\n",
              "                };\n",
              "                \n",
              "            </script>\n",
              "        </div>\n",
              "</body>\n",
              "</html>"
            ]
          },
          "metadata": {
            "tags": []
          }
        }
      ]
    },
    {
      "cell_type": "markdown",
      "metadata": {
        "id": "YbmAhYts3Jeq"
      },
      "source": [
        "### Choice model and prediction"
      ]
    },
    {
      "cell_type": "markdown",
      "metadata": {
        "id": "S8wFFWbF3TVy"
      },
      "source": [
        "As we can see at figures both models are near equivalent to each other with accuracy and loss. Becouse model with 3 layers is faster it was selected for prediction on test set"
      ]
    },
    {
      "cell_type": "code",
      "metadata": {
        "colab": {
          "base_uri": "https://localhost:8080/"
        },
        "id": "Uli8GPaf4Fge",
        "outputId": "83ab8c34-45d8-4f42-c530-f1abd5ef5406"
      },
      "source": [
        "loss, accuracy = model_3.evaluate(x_test, y_test, verbose=0)\n",
        "print(accuracy)"
      ],
      "execution_count": null,
      "outputs": [
        {
          "output_type": "stream",
          "text": [
            "0.8776000142097473\n"
          ],
          "name": "stdout"
        }
      ]
    },
    {
      "cell_type": "code",
      "metadata": {
        "colab": {
          "base_uri": "https://localhost:8080/",
          "height": 200
        },
        "id": "mu0t5s1U8ZDE",
        "outputId": "07d7a26a-0d10-41da-b6d7-8ab5c2266c43"
      },
      "source": [
        "pd.DataFrame(model_3.predict(x_test)).head()"
      ],
      "execution_count": null,
      "outputs": [
        {
          "output_type": "execute_result",
          "data": {
            "text/html": [
              "<div>\n",
              "<style scoped>\n",
              "    .dataframe tbody tr th:only-of-type {\n",
              "        vertical-align: middle;\n",
              "    }\n",
              "\n",
              "    .dataframe tbody tr th {\n",
              "        vertical-align: top;\n",
              "    }\n",
              "\n",
              "    .dataframe thead th {\n",
              "        text-align: right;\n",
              "    }\n",
              "</style>\n",
              "<table border=\"1\" class=\"dataframe\">\n",
              "  <thead>\n",
              "    <tr style=\"text-align: right;\">\n",
              "      <th></th>\n",
              "      <th>0</th>\n",
              "      <th>1</th>\n",
              "      <th>2</th>\n",
              "      <th>3</th>\n",
              "      <th>4</th>\n",
              "      <th>5</th>\n",
              "      <th>6</th>\n",
              "      <th>7</th>\n",
              "      <th>8</th>\n",
              "      <th>9</th>\n",
              "    </tr>\n",
              "  </thead>\n",
              "  <tbody>\n",
              "    <tr>\n",
              "      <th>0</th>\n",
              "      <td>0.000000</td>\n",
              "      <td>0.000000</td>\n",
              "      <td>0.000000</td>\n",
              "      <td>0.000000</td>\n",
              "      <td>0.000000</td>\n",
              "      <td>0.000646</td>\n",
              "      <td>0.000000</td>\n",
              "      <td>0.001951</td>\n",
              "      <td>0.000000</td>\n",
              "      <td>0.997403</td>\n",
              "    </tr>\n",
              "    <tr>\n",
              "      <th>1</th>\n",
              "      <td>0.000004</td>\n",
              "      <td>0.000000</td>\n",
              "      <td>0.998051</td>\n",
              "      <td>0.000000</td>\n",
              "      <td>0.001465</td>\n",
              "      <td>0.000000</td>\n",
              "      <td>0.000480</td>\n",
              "      <td>0.000000</td>\n",
              "      <td>0.000000</td>\n",
              "      <td>0.000000</td>\n",
              "    </tr>\n",
              "    <tr>\n",
              "      <th>2</th>\n",
              "      <td>0.000000</td>\n",
              "      <td>1.000000</td>\n",
              "      <td>0.000000</td>\n",
              "      <td>0.000000</td>\n",
              "      <td>0.000000</td>\n",
              "      <td>0.000000</td>\n",
              "      <td>0.000000</td>\n",
              "      <td>0.000000</td>\n",
              "      <td>0.000000</td>\n",
              "      <td>0.000000</td>\n",
              "    </tr>\n",
              "    <tr>\n",
              "      <th>3</th>\n",
              "      <td>0.000000</td>\n",
              "      <td>1.000000</td>\n",
              "      <td>0.000000</td>\n",
              "      <td>0.000000</td>\n",
              "      <td>0.000000</td>\n",
              "      <td>0.000000</td>\n",
              "      <td>0.000000</td>\n",
              "      <td>0.000000</td>\n",
              "      <td>0.000000</td>\n",
              "      <td>0.000000</td>\n",
              "    </tr>\n",
              "    <tr>\n",
              "      <th>4</th>\n",
              "      <td>0.063790</td>\n",
              "      <td>0.000000</td>\n",
              "      <td>0.011130</td>\n",
              "      <td>0.000385</td>\n",
              "      <td>0.000605</td>\n",
              "      <td>0.000006</td>\n",
              "      <td>0.924069</td>\n",
              "      <td>0.000003</td>\n",
              "      <td>0.000012</td>\n",
              "      <td>0.000000</td>\n",
              "    </tr>\n",
              "  </tbody>\n",
              "</table>\n",
              "</div>"
            ],
            "text/plain": [
              "         0        1        2        3  ...        6        7        8        9\n",
              "0 0.000000 0.000000 0.000000 0.000000  ... 0.000000 0.001951 0.000000 0.997403\n",
              "1 0.000004 0.000000 0.998051 0.000000  ... 0.000480 0.000000 0.000000 0.000000\n",
              "2 0.000000 1.000000 0.000000 0.000000  ... 0.000000 0.000000 0.000000 0.000000\n",
              "3 0.000000 1.000000 0.000000 0.000000  ... 0.000000 0.000000 0.000000 0.000000\n",
              "4 0.063790 0.000000 0.011130 0.000385  ... 0.924069 0.000003 0.000012 0.000000\n",
              "\n",
              "[5 rows x 10 columns]"
            ]
          },
          "metadata": {
            "tags": []
          },
          "execution_count": 13
        }
      ]
    },
    {
      "cell_type": "code",
      "metadata": {
        "colab": {
          "base_uri": "https://localhost:8080/"
        },
        "id": "MDZJPARk85Tl",
        "outputId": "a8f8f73b-1217-4307-c2cd-4bd23a548b0a"
      },
      "source": [
        "dir(model_3)\n"
      ],
      "execution_count": null,
      "outputs": [
        {
          "output_type": "execute_result",
          "data": {
            "text/plain": [
              "['_TF_MODULE_IGNORED_PROPERTIES',\n",
              " '__call__',\n",
              " '__class__',\n",
              " '__delattr__',\n",
              " '__dict__',\n",
              " '__dir__',\n",
              " '__doc__',\n",
              " '__eq__',\n",
              " '__format__',\n",
              " '__ge__',\n",
              " '__getattribute__',\n",
              " '__getstate__',\n",
              " '__gt__',\n",
              " '__hash__',\n",
              " '__init__',\n",
              " '__init_subclass__',\n",
              " '__le__',\n",
              " '__lt__',\n",
              " '__module__',\n",
              " '__ne__',\n",
              " '__new__',\n",
              " '__reduce__',\n",
              " '__reduce_ex__',\n",
              " '__repr__',\n",
              " '__setattr__',\n",
              " '__setstate__',\n",
              " '__sizeof__',\n",
              " '__str__',\n",
              " '__subclasshook__',\n",
              " '__weakref__',\n",
              " '_activity_regularizer',\n",
              " '_add_trackable',\n",
              " '_add_variable_with_custom_getter',\n",
              " '_assert_compile_was_called',\n",
              " '_assert_weights_created',\n",
              " '_auto_track_sub_layers',\n",
              " '_autocast',\n",
              " '_autographed_call',\n",
              " '_base_model_initialized',\n",
              " '_build_graph_network_for_inferred_shape',\n",
              " '_build_input_shape',\n",
              " '_call_accepts_kwargs',\n",
              " '_call_arg_was_passed',\n",
              " '_call_fn_arg_defaults',\n",
              " '_call_fn_arg_positions',\n",
              " '_call_fn_args',\n",
              " '_call_full_argspec',\n",
              " '_callable_losses',\n",
              " '_cast_single_input',\n",
              " '_check_call_args',\n",
              " '_checkpoint_dependencies',\n",
              " '_clear_losses',\n",
              " '_cluster_coordinator',\n",
              " '_compile_was_called',\n",
              " '_compiled_trainable_state',\n",
              " '_compute_dtype',\n",
              " '_compute_dtype_object',\n",
              " '_compute_output_and_mask_jointly',\n",
              " '_compute_tensor_usage_count',\n",
              " '_configure_steps_per_execution',\n",
              " '_conform_to_reference_input',\n",
              " '_created_nodes',\n",
              " '_dedup_weights',\n",
              " '_default_training_arg',\n",
              " '_deferred_dependencies',\n",
              " '_delete_tracking',\n",
              " '_distribution_strategy',\n",
              " '_dtype',\n",
              " '_dtype_policy',\n",
              " '_dynamic',\n",
              " '_eager_losses',\n",
              " '_enable_dict_to_input_mapping',\n",
              " '_expects_mask_arg',\n",
              " '_expects_training_arg',\n",
              " '_feed_input_names',\n",
              " '_feed_input_shapes',\n",
              " '_feed_inputs',\n",
              " '_flatten',\n",
              " '_flatten_layers',\n",
              " '_flatten_modules',\n",
              " '_flatten_to_reference_inputs',\n",
              " '_functional_construction_call',\n",
              " '_gather_children_attribute',\n",
              " '_gather_saveables_for_checkpoint',\n",
              " '_get_call_arg_value',\n",
              " '_get_callback_model',\n",
              " '_get_cell_name',\n",
              " '_get_compile_args',\n",
              " '_get_existing_metric',\n",
              " '_get_input_masks',\n",
              " '_get_node_attribute_at_index',\n",
              " '_get_optimizer',\n",
              " '_get_save_spec',\n",
              " '_get_trainable_state',\n",
              " '_graph_initialized',\n",
              " '_graph_network_add_loss',\n",
              " '_graph_network_add_metric',\n",
              " '_handle_activity_regularization',\n",
              " '_handle_deferred_dependencies',\n",
              " '_handle_deferred_layer_dependencies',\n",
              " '_handle_weight_regularization',\n",
              " '_has_explicit_input_shape',\n",
              " '_in_multi_worker_mode',\n",
              " '_inbound_nodes',\n",
              " '_inbound_nodes_value',\n",
              " '_infer_output_signature',\n",
              " '_inferred_input_shape',\n",
              " '_init_batch_counters',\n",
              " '_init_call_fn_args',\n",
              " '_init_graph_network',\n",
              " '_init_set_name',\n",
              " '_initial_weights',\n",
              " '_input_coordinates',\n",
              " '_input_dtype',\n",
              " '_input_layers',\n",
              " '_input_spec',\n",
              " '_insert_layers',\n",
              " '_instrument_layer_creation',\n",
              " '_instrumented_keras_api',\n",
              " '_instrumented_keras_layer_class',\n",
              " '_instrumented_keras_model_class',\n",
              " '_is_compiled',\n",
              " '_is_graph_network',\n",
              " '_is_layer',\n",
              " '_is_layer_name_unique',\n",
              " '_is_model_for_instrumentation',\n",
              " '_keras_api_names',\n",
              " '_keras_api_names_v1',\n",
              " '_keras_tensor_symbolic_call',\n",
              " '_layer_call_argspecs',\n",
              " '_layer_checkpoint_dependencies',\n",
              " '_list_extra_dependencies_for_serialization',\n",
              " '_list_functions_for_serialization',\n",
              " '_lookup_dependency',\n",
              " '_losses',\n",
              " '_map_resources',\n",
              " '_maybe_build',\n",
              " '_maybe_cast_inputs',\n",
              " '_maybe_create_attribute',\n",
              " '_maybe_initialize_trackable',\n",
              " '_maybe_load_initial_epoch_from_ckpt',\n",
              " '_metrics',\n",
              " '_metrics_lock',\n",
              " '_must_restore_from_config',\n",
              " '_name',\n",
              " '_name_based_attribute_restore',\n",
              " '_name_based_restores',\n",
              " '_name_scope',\n",
              " '_nested_inputs',\n",
              " '_nested_outputs',\n",
              " '_network_nodes',\n",
              " '_no_dependency',\n",
              " '_nodes_by_depth',\n",
              " '_non_trainable_weights',\n",
              " '_obj_reference_counts',\n",
              " '_obj_reference_counts_dict',\n",
              " '_object_identifier',\n",
              " '_outbound_nodes',\n",
              " '_outbound_nodes_value',\n",
              " '_outer_name_scope',\n",
              " '_output_coordinates',\n",
              " '_output_layers',\n",
              " '_output_mask_cache',\n",
              " '_output_shape_cache',\n",
              " '_output_tensor_cache',\n",
              " '_predict_counter',\n",
              " '_preload_simple_restoration',\n",
              " '_preserve_input_structure_in_config',\n",
              " '_reset_compile_cache',\n",
              " '_restore_from_checkpoint_position',\n",
              " '_run_eagerly',\n",
              " '_run_internal_graph',\n",
              " '_saved_model_arg_spec',\n",
              " '_saved_model_inputs_spec',\n",
              " '_self_name_based_restores',\n",
              " '_self_saveable_object_factories',\n",
              " '_self_setattr_tracking',\n",
              " '_self_tracked_trackables',\n",
              " '_self_unconditional_checkpoint_dependencies',\n",
              " '_self_unconditional_deferred_dependencies',\n",
              " '_self_unconditional_dependency_names',\n",
              " '_self_update_uid',\n",
              " '_set_call_arg_value',\n",
              " '_set_connectivity_metadata',\n",
              " '_set_dtype_policy',\n",
              " '_set_inputs',\n",
              " '_set_mask_keras_history_checked',\n",
              " '_set_mask_metadata',\n",
              " '_set_output_names',\n",
              " '_set_save_spec',\n",
              " '_set_trainable_state',\n",
              " '_set_training_mode',\n",
              " '_setattr_tracking',\n",
              " '_should_cast_single_input',\n",
              " '_should_compute_mask',\n",
              " '_should_eval',\n",
              " '_single_restoration_from_checkpoint_position',\n",
              " '_split_out_first_arg',\n",
              " '_stateful',\n",
              " '_steps_per_execution',\n",
              " '_supports_masking',\n",
              " '_symbolic_call',\n",
              " '_tensor_usage_count',\n",
              " '_test_counter',\n",
              " '_tf_api_names',\n",
              " '_tf_api_names_v1',\n",
              " '_thread_local',\n",
              " '_track_trackable',\n",
              " '_trackable_saved_model_saver',\n",
              " '_trackable_saver',\n",
              " '_tracking_metadata',\n",
              " '_train_counter',\n",
              " '_trainable',\n",
              " '_trainable_weights',\n",
              " '_training_state',\n",
              " '_unconditional_checkpoint_dependencies',\n",
              " '_unconditional_dependency_names',\n",
              " '_undeduplicated_weights',\n",
              " '_update_uid',\n",
              " '_updated_config',\n",
              " '_updates',\n",
              " '_use_input_spec_as_call_signature',\n",
              " '_use_legacy_deferred_behavior',\n",
              " '_validate_compile',\n",
              " '_validate_graph_inputs_and_outputs',\n",
              " 'activity_regularizer',\n",
              " 'add',\n",
              " 'add_loss',\n",
              " 'add_metric',\n",
              " 'add_update',\n",
              " 'add_variable',\n",
              " 'add_weight',\n",
              " 'apply',\n",
              " 'build',\n",
              " 'built',\n",
              " 'call',\n",
              " 'compile',\n",
              " 'compiled_loss',\n",
              " 'compiled_metrics',\n",
              " 'compute_dtype',\n",
              " 'compute_mask',\n",
              " 'compute_output_shape',\n",
              " 'compute_output_signature',\n",
              " 'count_params',\n",
              " 'distribute_strategy',\n",
              " 'dtype',\n",
              " 'dtype_policy',\n",
              " 'dynamic',\n",
              " 'evaluate',\n",
              " 'evaluate_generator',\n",
              " 'finalize_state',\n",
              " 'fit',\n",
              " 'fit_generator',\n",
              " 'from_config',\n",
              " 'get_config',\n",
              " 'get_input_at',\n",
              " 'get_input_mask_at',\n",
              " 'get_input_shape_at',\n",
              " 'get_layer',\n",
              " 'get_losses_for',\n",
              " 'get_output_at',\n",
              " 'get_output_mask_at',\n",
              " 'get_output_shape_at',\n",
              " 'get_updates_for',\n",
              " 'get_weights',\n",
              " 'history',\n",
              " 'inbound_nodes',\n",
              " 'input',\n",
              " 'input_mask',\n",
              " 'input_names',\n",
              " 'input_shape',\n",
              " 'input_spec',\n",
              " 'inputs',\n",
              " 'layers',\n",
              " 'load_weights',\n",
              " 'loss',\n",
              " 'losses',\n",
              " 'make_predict_function',\n",
              " 'make_test_function',\n",
              " 'make_train_function',\n",
              " 'metrics',\n",
              " 'metrics_names',\n",
              " 'name',\n",
              " 'name_scope',\n",
              " 'non_trainable_variables',\n",
              " 'non_trainable_weights',\n",
              " 'optimizer',\n",
              " 'outbound_nodes',\n",
              " 'output',\n",
              " 'output_mask',\n",
              " 'output_names',\n",
              " 'output_shape',\n",
              " 'outputs',\n",
              " 'pop',\n",
              " 'predict',\n",
              " 'predict_function',\n",
              " 'predict_generator',\n",
              " 'predict_on_batch',\n",
              " 'predict_step',\n",
              " 'reset_metrics',\n",
              " 'reset_states',\n",
              " 'run_eagerly',\n",
              " 'save',\n",
              " 'save_spec',\n",
              " 'save_weights',\n",
              " 'set_weights',\n",
              " 'state_updates',\n",
              " 'stateful',\n",
              " 'stop_training',\n",
              " 'submodules',\n",
              " 'summary',\n",
              " 'supports_masking',\n",
              " 'test_function',\n",
              " 'test_on_batch',\n",
              " 'test_step',\n",
              " 'to_json',\n",
              " 'to_yaml',\n",
              " 'train_function',\n",
              " 'train_on_batch',\n",
              " 'train_step',\n",
              " 'train_tf_function',\n",
              " 'trainable',\n",
              " 'trainable_variables',\n",
              " 'trainable_weights',\n",
              " 'updates',\n",
              " 'variable_dtype',\n",
              " 'variables',\n",
              " 'weights',\n",
              " 'with_name_scope']"
            ]
          },
          "metadata": {
            "tags": []
          },
          "execution_count": 19
        }
      ]
    }
  ]
}